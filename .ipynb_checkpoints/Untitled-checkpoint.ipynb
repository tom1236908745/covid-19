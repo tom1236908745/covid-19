{
 "cells": [
  {
   "cell_type": "code",
   "execution_count": 149,
   "metadata": {},
   "outputs": [],
   "source": [
    "import pandas as pd \n",
    "import numpy as np\n",
    "from sklearn.ensemble import RandomForestClassifier"
   ]
  },
  {
   "cell_type": "code",
   "execution_count": 154,
   "metadata": {},
   "outputs": [],
   "source": [
    "data= pd.read_csv(\"covidLive.csv\")"
   ]
  },
  {
   "cell_type": "code",
   "execution_count": 155,
   "metadata": {},
   "outputs": [
    {
     "data": {
      "text/html": [
       "<div>\n",
       "<style scoped>\n",
       "    .dataframe tbody tr th:only-of-type {\n",
       "        vertical-align: middle;\n",
       "    }\n",
       "\n",
       "    .dataframe tbody tr th {\n",
       "        vertical-align: top;\n",
       "    }\n",
       "\n",
       "    .dataframe thead th {\n",
       "        text-align: right;\n",
       "    }\n",
       "</style>\n",
       "<table border=\"1\" class=\"dataframe\">\n",
       "  <thead>\n",
       "    <tr style=\"text-align: right;\">\n",
       "      <th></th>\n",
       "      <th>#</th>\n",
       "      <th>Country</th>\n",
       "      <th>Total\\r\\nCases</th>\n",
       "      <th>TotalDeaths</th>\n",
       "      <th>New\\r\\nDeaths</th>\n",
       "      <th>Total\\r\\nRecovered</th>\n",
       "      <th>Active\\r\\nCases</th>\n",
       "      <th>Serious,\\r\\nCritical</th>\n",
       "      <th>Tot Cases/\\r\\n1M pop</th>\n",
       "      <th>Deaths/\\r\\n1M pop</th>\n",
       "      <th>Total\\r\\nTests</th>\n",
       "      <th>Tests/\\r\\n1M pop</th>\n",
       "      <th>Population</th>\n",
       "    </tr>\n",
       "  </thead>\n",
       "  <tbody>\n",
       "    <tr>\n",
       "      <th>0</th>\n",
       "      <td>1</td>\n",
       "      <td>USA</td>\n",
       "      <td>98,166,904</td>\n",
       "      <td>1,084,282</td>\n",
       "      <td>NaN</td>\n",
       "      <td>94,962,112</td>\n",
       "      <td>2,120,510</td>\n",
       "      <td>2,970</td>\n",
       "      <td>293,206</td>\n",
       "      <td>3,239</td>\n",
       "      <td>1,118,158,870</td>\n",
       "      <td>3,339,729</td>\n",
       "      <td>334,805,269</td>\n",
       "    </tr>\n",
       "    <tr>\n",
       "      <th>1</th>\n",
       "      <td>2</td>\n",
       "      <td>India</td>\n",
       "      <td>44,587,307</td>\n",
       "      <td>528,629</td>\n",
       "      <td>NaN</td>\n",
       "      <td>44,019,095</td>\n",
       "      <td>39,583</td>\n",
       "      <td>698</td>\n",
       "      <td>31,698</td>\n",
       "      <td>376</td>\n",
       "      <td>894,416,853</td>\n",
       "      <td>635,857</td>\n",
       "      <td>1,406,631,776</td>\n",
       "    </tr>\n",
       "    <tr>\n",
       "      <th>2</th>\n",
       "      <td>3</td>\n",
       "      <td>France</td>\n",
       "      <td>35,342,950</td>\n",
       "      <td>155,078</td>\n",
       "      <td>NaN</td>\n",
       "      <td>34,527,115</td>\n",
       "      <td>660,757</td>\n",
       "      <td>869</td>\n",
       "      <td>538,892</td>\n",
       "      <td>2,365</td>\n",
       "      <td>271,490,188</td>\n",
       "      <td>4,139,547</td>\n",
       "      <td>65,584,518</td>\n",
       "    </tr>\n",
       "  </tbody>\n",
       "</table>\n",
       "</div>"
      ],
      "text/plain": [
       "   # Country Total\\r\\nCases TotalDeaths  New\\r\\nDeaths Total\\r\\nRecovered  \\\n",
       "0  1     USA     98,166,904   1,084,282            NaN         94,962,112   \n",
       "1  2   India     44,587,307     528,629            NaN         44,019,095   \n",
       "2  3  France     35,342,950     155,078            NaN         34,527,115   \n",
       "\n",
       "  Active\\r\\nCases Serious,\\r\\nCritical Tot Cases/\\r\\n1M pop Deaths/\\r\\n1M pop  \\\n",
       "0       2,120,510                2,970              293,206             3,239   \n",
       "1          39,583                  698               31,698               376   \n",
       "2         660,757                  869              538,892             2,365   \n",
       "\n",
       "  Total\\r\\nTests Tests/\\r\\n1M pop     Population  \n",
       "0  1,118,158,870        3,339,729    334,805,269  \n",
       "1    894,416,853          635,857  1,406,631,776  \n",
       "2    271,490,188        4,139,547     65,584,518  "
      ]
     },
     "execution_count": 155,
     "metadata": {},
     "output_type": "execute_result"
    }
   ],
   "source": [
    "data.head(3)"
   ]
  },
  {
   "cell_type": "code",
   "execution_count": 156,
   "metadata": {},
   "outputs": [
    {
     "data": {
      "text/plain": [
       "<bound method NDFrame.describe of        #         Country Total\\r\\nCases TotalDeaths  New\\r\\nDeaths  \\\n",
       "0      1             USA     98,166,904   1,084,282            NaN   \n",
       "1      2           India     44,587,307     528,629            NaN   \n",
       "2      3          France     35,342,950     155,078            NaN   \n",
       "3      4          Brazil     34,706,757     686,027            NaN   \n",
       "4      5         Germany     33,312,373     149,948            NaN   \n",
       "..   ...             ...            ...         ...            ...   \n",
       "225  226            Niue             80         NaN            NaN   \n",
       "226  227    Vatican City             29         NaN            NaN   \n",
       "227  228          Tuvalu             20         NaN            NaN   \n",
       "228  229  Western Sahara             10           1            NaN   \n",
       "229  230      MS Zaandam              9           2            NaN   \n",
       "\n",
       "    Total\\r\\nRecovered Active\\r\\nCases Serious,\\r\\nCritical  \\\n",
       "0           94,962,112       2,120,510                2,970   \n",
       "1           44,019,095          39,583                  698   \n",
       "2           34,527,115         660,757                  869   \n",
       "3           33,838,636         182,094                8,318   \n",
       "4           32,315,200         847,225                1,406   \n",
       "..                 ...             ...                  ...   \n",
       "225                 80               0                  NaN   \n",
       "226                 29               0                  NaN   \n",
       "227                NaN              20                  NaN   \n",
       "228                  9               0                  NaN   \n",
       "229                  7               0                  NaN   \n",
       "\n",
       "    Tot Cases/\\r\\n1M pop Deaths/\\r\\n1M pop Total\\r\\nTests Tests/\\r\\n1M pop  \\\n",
       "0                293,206             3,239  1,118,158,870        3,339,729   \n",
       "1                 31,698               376    894,416,853          635,857   \n",
       "2                538,892             2,365    271,490,188        4,139,547   \n",
       "3                161,162             3,186     63,776,166          296,146   \n",
       "4                397,126             1,788    122,332,384        1,458,359   \n",
       "..                   ...               ...            ...              ...   \n",
       "225               49,322               NaN            NaN              NaN   \n",
       "226               36,295               NaN            NaN              NaN   \n",
       "227                1,658               NaN            NaN              NaN   \n",
       "228                   16                 2            NaN              NaN   \n",
       "229                  NaN               NaN            NaN              NaN   \n",
       "\n",
       "        Population  \n",
       "0      334,805,269  \n",
       "1    1,406,631,776  \n",
       "2       65,584,518  \n",
       "3      215,353,593  \n",
       "4       83,883,596  \n",
       "..             ...  \n",
       "225          1,622  \n",
       "226            799  \n",
       "227         12,066  \n",
       "228        626,161  \n",
       "229            NaN  \n",
       "\n",
       "[230 rows x 13 columns]>"
      ]
     },
     "execution_count": 156,
     "metadata": {},
     "output_type": "execute_result"
    }
   ],
   "source": [
    "data.describe"
   ]
  },
  {
   "cell_type": "code",
   "execution_count": 157,
   "metadata": {},
   "outputs": [],
   "source": [
    "from sklearn.model_selection import train_test_split\n",
    "train, test = train_test_split(data)\n"
   ]
  },
  {
   "cell_type": "code",
   "execution_count": 162,
   "metadata": {},
   "outputs": [
    {
     "data": {
      "text/plain": [
       "58"
      ]
     },
     "execution_count": 162,
     "metadata": {},
     "output_type": "execute_result"
    }
   ],
   "source": [
    "len(test.index)"
   ]
  },
  {
   "cell_type": "code",
   "execution_count": 163,
   "metadata": {},
   "outputs": [
    {
     "data": {
      "text/plain": [
       "172"
      ]
     },
     "execution_count": 163,
     "metadata": {},
     "output_type": "execute_result"
    }
   ],
   "source": [
    "len(train.index)"
   ]
  },
  {
   "cell_type": "code",
   "execution_count": 164,
   "metadata": {},
   "outputs": [
    {
     "name": "stdout",
     "output_type": "stream",
     "text": [
      "#                         0\n",
      "Country                   0\n",
      "Total\\r\\nCases            0\n",
      "TotalDeaths               2\n",
      "New\\r\\nDeaths           169\n",
      "Total\\r\\nRecovered        9\n",
      "Active\\r\\nCases           9\n",
      "Serious,\\r\\nCritical     65\n",
      "Tot Cases/\\r\\n1M pop      1\n",
      "Deaths/\\r\\n1M pop         3\n",
      "Total\\r\\nTests            9\n",
      "Tests/\\r\\n1M pop          9\n",
      "Population                1\n",
      "dtype: int64\n"
     ]
    }
   ],
   "source": [
    "print(train.isnull().sum())"
   ]
  },
  {
   "cell_type": "code",
   "execution_count": 165,
   "metadata": {},
   "outputs": [
    {
     "data": {
      "text/html": [
       "<div>\n",
       "<style scoped>\n",
       "    .dataframe tbody tr th:only-of-type {\n",
       "        vertical-align: middle;\n",
       "    }\n",
       "\n",
       "    .dataframe tbody tr th {\n",
       "        vertical-align: top;\n",
       "    }\n",
       "\n",
       "    .dataframe thead th {\n",
       "        text-align: right;\n",
       "    }\n",
       "</style>\n",
       "<table border=\"1\" class=\"dataframe\">\n",
       "  <thead>\n",
       "    <tr style=\"text-align: right;\">\n",
       "      <th></th>\n",
       "      <th>#</th>\n",
       "      <th>Country</th>\n",
       "      <th>Total\\r\\nCases</th>\n",
       "      <th>TotalDeaths</th>\n",
       "      <th>New\\r\\nDeaths</th>\n",
       "      <th>Total\\r\\nRecovered</th>\n",
       "      <th>Active\\r\\nCases</th>\n",
       "      <th>Serious,\\r\\nCritical</th>\n",
       "      <th>Tot Cases/\\r\\n1M pop</th>\n",
       "      <th>Deaths/\\r\\n1M pop</th>\n",
       "      <th>Total\\r\\nTests</th>\n",
       "      <th>Tests/\\r\\n1M pop</th>\n",
       "      <th>Population</th>\n",
       "    </tr>\n",
       "  </thead>\n",
       "  <tbody>\n",
       "    <tr>\n",
       "      <th>23</th>\n",
       "      <td>24</td>\n",
       "      <td>Ukraine</td>\n",
       "      <td>5,177,217</td>\n",
       "      <td>109,206</td>\n",
       "      <td>NaN</td>\n",
       "      <td>4,973,554</td>\n",
       "      <td>94,457</td>\n",
       "      <td>177</td>\n",
       "      <td>119,865</td>\n",
       "      <td>2,528</td>\n",
       "      <td>19,521,252</td>\n",
       "      <td>451,963</td>\n",
       "      <td>43,192,122</td>\n",
       "    </tr>\n",
       "    <tr>\n",
       "      <th>96</th>\n",
       "      <td>97</td>\n",
       "      <td>Oman</td>\n",
       "      <td>397,993</td>\n",
       "      <td>4,260</td>\n",
       "      <td>NaN</td>\n",
       "      <td>384,669</td>\n",
       "      <td>9,064</td>\n",
       "      <td>2</td>\n",
       "      <td>74,755</td>\n",
       "      <td>800</td>\n",
       "      <td>25,000,000</td>\n",
       "      <td>4,695,724</td>\n",
       "      <td>5,323,993</td>\n",
       "    </tr>\n",
       "    <tr>\n",
       "      <th>166</th>\n",
       "      <td>167</td>\n",
       "      <td>Mali</td>\n",
       "      <td>32,625</td>\n",
       "      <td>742</td>\n",
       "      <td>NaN</td>\n",
       "      <td>31,591</td>\n",
       "      <td>292</td>\n",
       "      <td>NaN</td>\n",
       "      <td>1,519</td>\n",
       "      <td>35</td>\n",
       "      <td>759,178</td>\n",
       "      <td>35,354</td>\n",
       "      <td>21,473,764</td>\n",
       "    </tr>\n",
       "    <tr>\n",
       "      <th>6</th>\n",
       "      <td>7</td>\n",
       "      <td>UK</td>\n",
       "      <td>23,621,952</td>\n",
       "      <td>189,919</td>\n",
       "      <td>NaN</td>\n",
       "      <td>23,347,871</td>\n",
       "      <td>84,162</td>\n",
       "      <td>146</td>\n",
       "      <td>344,857</td>\n",
       "      <td>2,773</td>\n",
       "      <td>522,526,476</td>\n",
       "      <td>7,628,357</td>\n",
       "      <td>68,497,907</td>\n",
       "    </tr>\n",
       "  </tbody>\n",
       "</table>\n",
       "</div>"
      ],
      "text/plain": [
       "       #  Country Total\\r\\nCases TotalDeaths  New\\r\\nDeaths  \\\n",
       "23    24  Ukraine      5,177,217     109,206            NaN   \n",
       "96    97     Oman        397,993       4,260            NaN   \n",
       "166  167     Mali         32,625         742            NaN   \n",
       "6      7       UK     23,621,952     189,919            NaN   \n",
       "\n",
       "    Total\\r\\nRecovered Active\\r\\nCases Serious,\\r\\nCritical  \\\n",
       "23           4,973,554          94,457                  177   \n",
       "96             384,669           9,064                    2   \n",
       "166             31,591             292                  NaN   \n",
       "6           23,347,871          84,162                  146   \n",
       "\n",
       "    Tot Cases/\\r\\n1M pop Deaths/\\r\\n1M pop Total\\r\\nTests Tests/\\r\\n1M pop  \\\n",
       "23               119,865             2,528     19,521,252          451,963   \n",
       "96                74,755               800     25,000,000        4,695,724   \n",
       "166                1,519                35        759,178           35,354   \n",
       "6                344,857             2,773    522,526,476        7,628,357   \n",
       "\n",
       "     Population  \n",
       "23   43,192,122  \n",
       "96    5,323,993  \n",
       "166  21,473,764  \n",
       "6    68,497,907  "
      ]
     },
     "execution_count": 165,
     "metadata": {},
     "output_type": "execute_result"
    }
   ],
   "source": [
    "train.head(4)"
   ]
  },
  {
   "cell_type": "code",
   "execution_count": 172,
   "metadata": {},
   "outputs": [],
   "source": [
    "for i, el in enumerate(train[\"TotalDeaths\"]):\n",
    "    \n",
    "    if type(el) != str:\n",
    "        continue\n",
    "    el = el.replace(\",\",\"\")\n",
    "    train.iat[i,3] = int(el)\n",
    "    \n",
    "train[\"TotalDeaths\"].fillna(train[\"TotalDeaths\"].mean(), inplace=True)\n",
    "\n",
    "for i, el in enumerate(train[\"Total\\r\\nRecovered\"]):\n",
    "    if type(el) == str:\n",
    "        el = el.replace(\",\",\"\")\n",
    "        train.iat[i,5] = int(el)\n",
    "        \n",
    "train.head(4)\n",
    "train[\"Total\\r\\nRecovered\"].fillna(train[\"Total\\r\\nRecovered\"].mean(), inplace=True)\n",
    "\n",
    "for i, el in enumerate(train[\"New\\r\\nDeaths\"]):\n",
    "    \n",
    "    if type(el) != str:\n",
    "        continue\n",
    "    el = el.replace(\",\",\"\")\n",
    "    train.iat[i,4] = int(el)\n",
    "    \n",
    "train[\"New\\r\\nDeaths\"].fillna(train[\"New\\r\\nDeaths\"].mean(), inplace=True)\n",
    "\n",
    "\n",
    "for i, el in enumerate(train[\"Active\\r\\nCases\"]):\n",
    "    \n",
    "    if type(el) != str:\n",
    "        continue\n",
    "    el = el.replace(\",\",\"\")\n",
    "    train.iat[i,6] = int(el)\n",
    "    \n",
    "train[\"Active\\r\\nCases\"].fillna(train[\"Active\\r\\nCases\"].mean(), inplace=True)\n",
    "\n",
    "for i, el in enumerate(train[\"Serious,\\r\\nCritical\"]):\n",
    "    if type(el) == str:\n",
    "        el = el.replace(\",\",\"\")\n",
    "        train.iat[i,7] = int(el)\n",
    "train[\"Serious,\\r\\nCritical\"].fillna(train[\"Serious,\\r\\nCritical\"].mean(), inplace=True)\n",
    "\n",
    "for i, el in enumerate(train[\"Tot Cases/\\r\\n1M pop\"]):\n",
    "    \n",
    "    if type(el) != str:\n",
    "        continue\n",
    "    el = el.replace(\",\",\"\")\n",
    "    train.iat[i,8] = int(el)\n",
    "    \n",
    "train[\"Tot Cases/\\r\\n1M pop\"].fillna(train[\"Tot Cases/\\r\\n1M pop\"].mean(), inplace=True)\n",
    "\n",
    "for i, el in enumerate(train[\"Deaths/\\r\\n1M pop\"]):\n",
    "    \n",
    "    if type(el) != str:\n",
    "        continue\n",
    "    el = el.replace(\",\",\"\")\n",
    "    train.iat[i,9] = int(el)\n",
    "    \n",
    "train[\"Deaths/\\r\\n1M pop\"].fillna(train[\"Deaths/\\r\\n1M pop\"].mean(), inplace=True)\n",
    "\n",
    "\n",
    "for i, el in enumerate(train[\"Total\\r\\nTests\"]):\n",
    "    \n",
    "    if type(el) != str:\n",
    "        continue\n",
    "    el = el.replace(\",\",\"\")\n",
    "    train.iat[i,10] = int(el)\n",
    "    \n",
    "train[\"Total\\r\\nTests\"].fillna(train[\"Total\\r\\nTests\"].mean(), inplace=True)\n",
    "\n",
    "for i, el in enumerate(train[\"Tests/\\r\\n1M pop\"]):\n",
    "    \n",
    "    if type(el) != str:\n",
    "        continue\n",
    "    el = el.replace(\",\",\"\")\n",
    "    train.iat[i,11] = int(el)\n",
    "    \n",
    "train[\"Tests/\\r\\n1M pop\"].fillna(train[\"Tests/\\r\\n1M pop\"].mean(), inplace=True)\n",
    "\n",
    "for i, el in enumerate(train[\"Population\"]):\n",
    "    \n",
    "    if type(el) != str:\n",
    "        continue\n",
    "    el = el.replace(\",\",\"\")\n",
    "    train.iat[i,12] = int(el)\n",
    "    \n",
    "train[\"Population\"].fillna(train[\"Population\"].mean(), inplace=True)"
   ]
  },
  {
   "cell_type": "code",
   "execution_count": 173,
   "metadata": {},
   "outputs": [
    {
     "name": "stdout",
     "output_type": "stream",
     "text": [
      "#                       0\n",
      "Country                 0\n",
      "Total\\r\\nCases          0\n",
      "TotalDeaths             0\n",
      "New\\r\\nDeaths           0\n",
      "Total\\r\\nRecovered      0\n",
      "Active\\r\\nCases         0\n",
      "Serious,\\r\\nCritical    0\n",
      "Tot Cases/\\r\\n1M pop    0\n",
      "Deaths/\\r\\n1M pop       0\n",
      "Total\\r\\nTests          0\n",
      "Tests/\\r\\n1M pop        0\n",
      "Population              0\n",
      "dtype: int64\n"
     ]
    }
   ],
   "source": [
    "print(train.isnull().sum())"
   ]
  },
  {
   "cell_type": "code",
   "execution_count": 174,
   "metadata": {},
   "outputs": [
    {
     "data": {
      "text/plain": [
       "(172, 13)"
      ]
     },
     "execution_count": 174,
     "metadata": {},
     "output_type": "execute_result"
    }
   ],
   "source": [
    "train.shape"
   ]
  },
  {
   "cell_type": "code",
   "execution_count": 175,
   "metadata": {},
   "outputs": [
    {
     "data": {
      "text/plain": [
       "23     109206.0\n",
       "96       4260.0\n",
       "166       742.0\n",
       "6      189919.0\n",
       "207        64.0\n",
       "         ...   \n",
       "228         1.0\n",
       "114       213.0\n",
       "208       115.0\n",
       "173       387.0\n",
       "77      19583.0\n",
       "Name: TotalDeaths, Length: 172, dtype: float64"
      ]
     },
     "execution_count": 175,
     "metadata": {},
     "output_type": "execute_result"
    }
   ],
   "source": [
    "correct_data = train[\"TotalDeaths\"]\n",
    "correct_data"
   ]
  },
  {
   "cell_type": "code",
   "execution_count": 176,
   "metadata": {},
   "outputs": [
    {
     "data": {
      "text/plain": [
       "172"
      ]
     },
     "execution_count": 176,
     "metadata": {},
     "output_type": "execute_result"
    }
   ],
   "source": [
    "len(correct_data)"
   ]
  },
  {
   "cell_type": "code",
   "execution_count": 187,
   "metadata": {},
   "outputs": [],
   "source": [
    "del test[\"TotalDeaths\"]"
   ]
  },
  {
   "cell_type": "code",
   "execution_count": 188,
   "metadata": {},
   "outputs": [
    {
     "data": {
      "text/html": [
       "<div>\n",
       "<style scoped>\n",
       "    .dataframe tbody tr th:only-of-type {\n",
       "        vertical-align: middle;\n",
       "    }\n",
       "\n",
       "    .dataframe tbody tr th {\n",
       "        vertical-align: top;\n",
       "    }\n",
       "\n",
       "    .dataframe thead th {\n",
       "        text-align: right;\n",
       "    }\n",
       "</style>\n",
       "<table border=\"1\" class=\"dataframe\">\n",
       "  <thead>\n",
       "    <tr style=\"text-align: right;\">\n",
       "      <th></th>\n",
       "      <th>#</th>\n",
       "      <th>Country</th>\n",
       "      <th>Total\\r\\nCases</th>\n",
       "      <th>New\\r\\nDeaths</th>\n",
       "      <th>Total\\r\\nRecovered</th>\n",
       "      <th>Active\\r\\nCases</th>\n",
       "      <th>Serious,\\r\\nCritical</th>\n",
       "      <th>Tot Cases/\\r\\n1M pop</th>\n",
       "      <th>Deaths/\\r\\n1M pop</th>\n",
       "      <th>Total\\r\\nTests</th>\n",
       "      <th>Tests/\\r\\n1M pop</th>\n",
       "      <th>Population</th>\n",
       "    </tr>\n",
       "  </thead>\n",
       "  <tbody>\n",
       "    <tr>\n",
       "      <th>112</th>\n",
       "      <td>113</td>\n",
       "      <td>Laos</td>\n",
       "      <td>215,843</td>\n",
       "      <td>NaN</td>\n",
       "      <td>NaN</td>\n",
       "      <td>NaN</td>\n",
       "      <td>NaN</td>\n",
       "      <td>28,852</td>\n",
       "      <td>101</td>\n",
       "      <td>1,233,207</td>\n",
       "      <td>164,845</td>\n",
       "      <td>7,481,023</td>\n",
       "    </tr>\n",
       "    <tr>\n",
       "      <th>143</th>\n",
       "      <td>144</td>\n",
       "      <td>Madagascar</td>\n",
       "      <td>66,676</td>\n",
       "      <td>NaN</td>\n",
       "      <td>65,242</td>\n",
       "      <td>24</td>\n",
       "      <td>NaN</td>\n",
       "      <td>2,285</td>\n",
       "      <td>48</td>\n",
       "      <td>512,993</td>\n",
       "      <td>17,581</td>\n",
       "      <td>29,178,077</td>\n",
       "    </tr>\n",
       "    <tr>\n",
       "      <th>105</th>\n",
       "      <td>106</td>\n",
       "      <td>Nigeria</td>\n",
       "      <td>265,382</td>\n",
       "      <td>NaN</td>\n",
       "      <td>258,381</td>\n",
       "      <td>3,846</td>\n",
       "      <td>11</td>\n",
       "      <td>1,224</td>\n",
       "      <td>15</td>\n",
       "      <td>5,441,162</td>\n",
       "      <td>25,104</td>\n",
       "      <td>216,746,934</td>\n",
       "    </tr>\n",
       "    <tr>\n",
       "      <th>12</th>\n",
       "      <td>13</td>\n",
       "      <td>Vietnam</td>\n",
       "      <td>11,477,886</td>\n",
       "      <td>NaN</td>\n",
       "      <td>10,590,917</td>\n",
       "      <td>843,821</td>\n",
       "      <td>106</td>\n",
       "      <td>115,993</td>\n",
       "      <td>436</td>\n",
       "      <td>85,826,548</td>\n",
       "      <td>867,342</td>\n",
       "      <td>98,953,541</td>\n",
       "    </tr>\n",
       "  </tbody>\n",
       "</table>\n",
       "</div>"
      ],
      "text/plain": [
       "       #     Country Total\\r\\nCases  New\\r\\nDeaths Total\\r\\nRecovered  \\\n",
       "112  113        Laos        215,843            NaN                NaN   \n",
       "143  144  Madagascar         66,676            NaN             65,242   \n",
       "105  106     Nigeria        265,382            NaN            258,381   \n",
       "12    13     Vietnam     11,477,886            NaN         10,590,917   \n",
       "\n",
       "    Active\\r\\nCases Serious,\\r\\nCritical Tot Cases/\\r\\n1M pop  \\\n",
       "112             NaN                  NaN               28,852   \n",
       "143              24                  NaN                2,285   \n",
       "105           3,846                   11                1,224   \n",
       "12          843,821                  106              115,993   \n",
       "\n",
       "    Deaths/\\r\\n1M pop Total\\r\\nTests Tests/\\r\\n1M pop   Population  \n",
       "112               101      1,233,207          164,845    7,481,023  \n",
       "143                48        512,993           17,581   29,178,077  \n",
       "105                15      5,441,162           25,104  216,746,934  \n",
       "12                436     85,826,548          867,342   98,953,541  "
      ]
     },
     "execution_count": 188,
     "metadata": {},
     "output_type": "execute_result"
    }
   ],
   "source": [
    "test.head(4)"
   ]
  },
  {
   "cell_type": "code",
   "execution_count": 189,
   "metadata": {},
   "outputs": [
    {
     "data": {
      "text/plain": [
       "(58, 12)"
      ]
     },
     "execution_count": 189,
     "metadata": {},
     "output_type": "execute_result"
    }
   ],
   "source": [
    "test.shape"
   ]
  },
  {
   "cell_type": "code",
   "execution_count": null,
   "metadata": {},
   "outputs": [],
   "source": []
  }
 ],
 "metadata": {
  "kernelspec": {
   "display_name": "Python 3",
   "language": "python",
   "name": "python3"
  },
  "language_info": {
   "codemirror_mode": {
    "name": "ipython",
    "version": 3
   },
   "file_extension": ".py",
   "mimetype": "text/x-python",
   "name": "python",
   "nbconvert_exporter": "python",
   "pygments_lexer": "ipython3",
   "version": "3.8.2"
  }
 },
 "nbformat": 4,
 "nbformat_minor": 4
}
