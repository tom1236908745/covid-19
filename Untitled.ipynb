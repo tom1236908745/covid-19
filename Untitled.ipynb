{
 "cells": [
  {
   "cell_type": "code",
   "execution_count": 149,
   "metadata": {},
   "outputs": [],
   "source": [
    "import pandas as pd \n",
    "import numpy as np\n",
    "from sklearn.ensemble import RandomForestClassifier"
   ]
  },
  {
   "cell_type": "code",
   "execution_count": 154,
   "metadata": {},
   "outputs": [],
   "source": [
    "data= pd.read_csv(\"covidLive.csv\")"
   ]
  },
  {
   "cell_type": "code",
   "execution_count": 155,
   "metadata": {},
   "outputs": [
    {
     "data": {
      "text/html": [
       "<div>\n",
       "<style scoped>\n",
       "    .dataframe tbody tr th:only-of-type {\n",
       "        vertical-align: middle;\n",
       "    }\n",
       "\n",
       "    .dataframe tbody tr th {\n",
       "        vertical-align: top;\n",
       "    }\n",
       "\n",
       "    .dataframe thead th {\n",
       "        text-align: right;\n",
       "    }\n",
       "</style>\n",
       "<table border=\"1\" class=\"dataframe\">\n",
       "  <thead>\n",
       "    <tr style=\"text-align: right;\">\n",
       "      <th></th>\n",
       "      <th>#</th>\n",
       "      <th>Country</th>\n",
       "      <th>Total\\r\\nCases</th>\n",
       "      <th>TotalDeaths</th>\n",
       "      <th>New\\r\\nDeaths</th>\n",
       "      <th>Total\\r\\nRecovered</th>\n",
       "      <th>Active\\r\\nCases</th>\n",
       "      <th>Serious,\\r\\nCritical</th>\n",
       "      <th>Tot Cases/\\r\\n1M pop</th>\n",
       "      <th>Deaths/\\r\\n1M pop</th>\n",
       "      <th>Total\\r\\nTests</th>\n",
       "      <th>Tests/\\r\\n1M pop</th>\n",
       "      <th>Population</th>\n",
       "    </tr>\n",
       "  </thead>\n",
       "  <tbody>\n",
       "    <tr>\n",
       "      <th>0</th>\n",
       "      <td>1</td>\n",
       "      <td>USA</td>\n",
       "      <td>98,166,904</td>\n",
       "      <td>1,084,282</td>\n",
       "      <td>NaN</td>\n",
       "      <td>94,962,112</td>\n",
       "      <td>2,120,510</td>\n",
       "      <td>2,970</td>\n",
       "      <td>293,206</td>\n",
       "      <td>3,239</td>\n",
       "      <td>1,118,158,870</td>\n",
       "      <td>3,339,729</td>\n",
       "      <td>334,805,269</td>\n",
       "    </tr>\n",
       "    <tr>\n",
       "      <th>1</th>\n",
       "      <td>2</td>\n",
       "      <td>India</td>\n",
       "      <td>44,587,307</td>\n",
       "      <td>528,629</td>\n",
       "      <td>NaN</td>\n",
       "      <td>44,019,095</td>\n",
       "      <td>39,583</td>\n",
       "      <td>698</td>\n",
       "      <td>31,698</td>\n",
       "      <td>376</td>\n",
       "      <td>894,416,853</td>\n",
       "      <td>635,857</td>\n",
       "      <td>1,406,631,776</td>\n",
       "    </tr>\n",
       "    <tr>\n",
       "      <th>2</th>\n",
       "      <td>3</td>\n",
       "      <td>France</td>\n",
       "      <td>35,342,950</td>\n",
       "      <td>155,078</td>\n",
       "      <td>NaN</td>\n",
       "      <td>34,527,115</td>\n",
       "      <td>660,757</td>\n",
       "      <td>869</td>\n",
       "      <td>538,892</td>\n",
       "      <td>2,365</td>\n",
       "      <td>271,490,188</td>\n",
       "      <td>4,139,547</td>\n",
       "      <td>65,584,518</td>\n",
       "    </tr>\n",
       "  </tbody>\n",
       "</table>\n",
       "</div>"
      ],
      "text/plain": [
       "   # Country Total\\r\\nCases TotalDeaths  New\\r\\nDeaths Total\\r\\nRecovered  \\\n",
       "0  1     USA     98,166,904   1,084,282            NaN         94,962,112   \n",
       "1  2   India     44,587,307     528,629            NaN         44,019,095   \n",
       "2  3  France     35,342,950     155,078            NaN         34,527,115   \n",
       "\n",
       "  Active\\r\\nCases Serious,\\r\\nCritical Tot Cases/\\r\\n1M pop Deaths/\\r\\n1M pop  \\\n",
       "0       2,120,510                2,970              293,206             3,239   \n",
       "1          39,583                  698               31,698               376   \n",
       "2         660,757                  869              538,892             2,365   \n",
       "\n",
       "  Total\\r\\nTests Tests/\\r\\n1M pop     Population  \n",
       "0  1,118,158,870        3,339,729    334,805,269  \n",
       "1    894,416,853          635,857  1,406,631,776  \n",
       "2    271,490,188        4,139,547     65,584,518  "
      ]
     },
     "execution_count": 155,
     "metadata": {},
     "output_type": "execute_result"
    }
   ],
   "source": [
    "data.head(3)"
   ]
  },
  {
   "cell_type": "code",
   "execution_count": 156,
   "metadata": {},
   "outputs": [
    {
     "data": {
      "text/plain": [
       "<bound method NDFrame.describe of        #         Country Total\\r\\nCases TotalDeaths  New\\r\\nDeaths  \\\n",
       "0      1             USA     98,166,904   1,084,282            NaN   \n",
       "1      2           India     44,587,307     528,629            NaN   \n",
       "2      3          France     35,342,950     155,078            NaN   \n",
       "3      4          Brazil     34,706,757     686,027            NaN   \n",
       "4      5         Germany     33,312,373     149,948            NaN   \n",
       "..   ...             ...            ...         ...            ...   \n",
       "225  226            Niue             80         NaN            NaN   \n",
       "226  227    Vatican City             29         NaN            NaN   \n",
       "227  228          Tuvalu             20         NaN            NaN   \n",
       "228  229  Western Sahara             10           1            NaN   \n",
       "229  230      MS Zaandam              9           2            NaN   \n",
       "\n",
       "    Total\\r\\nRecovered Active\\r\\nCases Serious,\\r\\nCritical  \\\n",
       "0           94,962,112       2,120,510                2,970   \n",
       "1           44,019,095          39,583                  698   \n",
       "2           34,527,115         660,757                  869   \n",
       "3           33,838,636         182,094                8,318   \n",
       "4           32,315,200         847,225                1,406   \n",
       "..                 ...             ...                  ...   \n",
       "225                 80               0                  NaN   \n",
       "226                 29               0                  NaN   \n",
       "227                NaN              20                  NaN   \n",
       "228                  9               0                  NaN   \n",
       "229                  7               0                  NaN   \n",
       "\n",
       "    Tot Cases/\\r\\n1M pop Deaths/\\r\\n1M pop Total\\r\\nTests Tests/\\r\\n1M pop  \\\n",
       "0                293,206             3,239  1,118,158,870        3,339,729   \n",
       "1                 31,698               376    894,416,853          635,857   \n",
       "2                538,892             2,365    271,490,188        4,139,547   \n",
       "3                161,162             3,186     63,776,166          296,146   \n",
       "4                397,126             1,788    122,332,384        1,458,359   \n",
       "..                   ...               ...            ...              ...   \n",
       "225               49,322               NaN            NaN              NaN   \n",
       "226               36,295               NaN            NaN              NaN   \n",
       "227                1,658               NaN            NaN              NaN   \n",
       "228                   16                 2            NaN              NaN   \n",
       "229                  NaN               NaN            NaN              NaN   \n",
       "\n",
       "        Population  \n",
       "0      334,805,269  \n",
       "1    1,406,631,776  \n",
       "2       65,584,518  \n",
       "3      215,353,593  \n",
       "4       83,883,596  \n",
       "..             ...  \n",
       "225          1,622  \n",
       "226            799  \n",
       "227         12,066  \n",
       "228        626,161  \n",
       "229            NaN  \n",
       "\n",
       "[230 rows x 13 columns]>"
      ]
     },
     "execution_count": 156,
     "metadata": {},
     "output_type": "execute_result"
    }
   ],
   "source": [
    "data.describe"
   ]
  },
  {
   "cell_type": "code",
   "execution_count": 157,
   "metadata": {},
   "outputs": [],
   "source": [
    "from sklearn.model_selection import train_test_split\n",
    "train, test = train_test_split(data)\n"
   ]
  },
  {
   "cell_type": "code",
   "execution_count": 162,
   "metadata": {},
   "outputs": [
    {
     "data": {
      "text/plain": [
       "58"
      ]
     },
     "execution_count": 162,
     "metadata": {},
     "output_type": "execute_result"
    }
   ],
   "source": [
    "len(test.index)"
   ]
  },
  {
   "cell_type": "code",
   "execution_count": 163,
   "metadata": {},
   "outputs": [
    {
     "data": {
      "text/plain": [
       "172"
      ]
     },
     "execution_count": 163,
     "metadata": {},
     "output_type": "execute_result"
    }
   ],
   "source": [
    "len(train.index)"
   ]
  },
  {
   "cell_type": "code",
   "execution_count": null,
   "metadata": {},
   "outputs": [],
   "source": []
  }
 ],
 "metadata": {
  "kernelspec": {
   "display_name": "Python 3",
   "language": "python",
   "name": "python3"
  },
  "language_info": {
   "codemirror_mode": {
    "name": "ipython",
    "version": 3
   },
   "file_extension": ".py",
   "mimetype": "text/x-python",
   "name": "python",
   "nbconvert_exporter": "python",
   "pygments_lexer": "ipython3",
   "version": "3.8.2"
  }
 },
 "nbformat": 4,
 "nbformat_minor": 4
}
