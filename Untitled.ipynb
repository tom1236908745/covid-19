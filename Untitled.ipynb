{
 "cells": [
  {
   "cell_type": "code",
   "execution_count": 288,
   "metadata": {},
   "outputs": [],
   "source": [
    "import pandas as pd \n",
    "import numpy as np\n",
    "from sklearn.ensemble import RandomForestClassifier"
   ]
  },
  {
   "cell_type": "code",
   "execution_count": 289,
   "metadata": {},
   "outputs": [],
   "source": [
    "data= pd.read_csv(\"covidLive.csv\")"
   ]
  },
  {
   "cell_type": "code",
   "execution_count": 290,
   "metadata": {},
   "outputs": [],
   "source": [
    "for i, el in enumerate(train[\"Total\\r\\nCases\"]):\n",
    "    \n",
    "    if type(el) != str:\n",
    "        continue\n",
    "    el = el.replace(\",\",\"\")\n",
    "    data.iat[i,2] = float(el)\n",
    "    \n",
    "for i, el in enumerate(data[\"TotalDeaths\"]):\n",
    "    \n",
    "    if type(el) != str:\n",
    "        continue\n",
    "    el = el.replace(\",\",\"\")\n",
    "    data.iat[i,3] = float(el)\n",
    "    \n",
    "data[\"TotalDeaths\"].fillna(data[\"TotalDeaths\"].mean(), inplace=True)\n",
    "\n",
    "\n",
    "for i, el in enumerate(data[\"New\\r\\nDeaths\"]):\n",
    "    \n",
    "    if type(el) != str:\n",
    "        continue\n",
    "    el = el.replace(\",\",\"\")\n",
    "    data.iat[i,4] = float(el)\n",
    "    \n",
    "data[\"New\\r\\nDeaths\"].fillna(data[\"New\\r\\nDeaths\"].mean(), inplace=True)\n",
    "\n",
    "for i, el in enumerate(data[\"Total\\r\\nRecovered\"]):\n",
    "    if type(el) == str:\n",
    "        el = el.replace(\",\",\"\")\n",
    "        data.iat[i,5] = float(el)\n",
    "        \n",
    "data.head(4)\n",
    "data[\"Total\\r\\nRecovered\"].fillna(data[\"Total\\r\\nRecovered\"].mean(), inplace=True)\n",
    "\n",
    "for i, el in enumerate(data[\"Active\\r\\nCases\"]):\n",
    "    \n",
    "    if type(el) != str:\n",
    "        continue\n",
    "    el = el.replace(\",\",\"\")\n",
    "    data.iat[i,6] = float(el)\n",
    "    \n",
    "data[\"Active\\r\\nCases\"].fillna(data[\"Active\\r\\nCases\"].mean(), inplace=True)\n",
    "\n",
    "for i, el in enumerate(data[\"Serious,\\r\\nCritical\"]):\n",
    "    if type(el) == str:\n",
    "        el = el.replace(\",\",\"\")\n",
    "        data.iat[i,7] = float(el)\n",
    "data[\"Serious,\\r\\nCritical\"].fillna(data[\"Serious,\\r\\nCritical\"].mean(), inplace=True)\n",
    "\n",
    "for i, el in enumerate(data[\"Tot Cases/\\r\\n1M pop\"]):\n",
    "    \n",
    "    if type(el) != str:\n",
    "        continue\n",
    "    el = el.replace(\",\",\"\")\n",
    "    data.iat[i,8] = float(el)\n",
    "    \n",
    "data[\"Tot Cases/\\r\\n1M pop\"].fillna(data[\"Tot Cases/\\r\\n1M pop\"].mean(), inplace=True)\n",
    "\n",
    "for i, el in enumerate(data[\"Deaths/\\r\\n1M pop\"]):\n",
    "    \n",
    "    if type(el) != str:\n",
    "        continue\n",
    "    el = el.replace(\",\",\"\")\n",
    "    data.iat[i,9] = float(el)\n",
    "    \n",
    "data[\"Deaths/\\r\\n1M pop\"].fillna(data[\"Deaths/\\r\\n1M pop\"].mean(), inplace=True)\n",
    "\n",
    "\n",
    "for i, el in enumerate(data[\"Total\\r\\nTests\"]):\n",
    "    \n",
    "    if type(el) != str:\n",
    "        continue\n",
    "    el = el.replace(\",\",\"\")\n",
    "    data.iat[i,10] = float(el)\n",
    "    \n",
    "data[\"Total\\r\\nTests\"].fillna(data[\"Total\\r\\nTests\"].mean(), inplace=True)\n",
    "\n",
    "for i, el in enumerate(data[\"Tests/\\r\\n1M pop\"]):\n",
    "    \n",
    "    if type(el) != str:\n",
    "        continue\n",
    "    el = el.replace(\",\",\"\")\n",
    "    data.iat[i,11] = float(el)\n",
    "    \n",
    "data[\"Tests/\\r\\n1M pop\"].fillna(data[\"Tests/\\r\\n1M pop\"].mean(), inplace=True)\n",
    "\n",
    "for i, el in enumerate(data[\"Population\"]):\n",
    "    \n",
    "    if type(el) != str:\n",
    "        continue\n",
    "    el = el.replace(\",\",\"\")\n",
    "    data.iat[i,12] = float(el)\n",
    "    \n",
    "data[\"Population\"].fillna(data[\"Population\"].mean(), inplace=True)"
   ]
  },
  {
   "cell_type": "code",
   "execution_count": 291,
   "metadata": {},
   "outputs": [],
   "source": [
    "from sklearn.model_selection import train_test_split\n",
    "train, test = train_test_split(data)"
   ]
  },
  {
   "cell_type": "code",
   "execution_count": 292,
   "metadata": {},
   "outputs": [],
   "source": [
    "correct_data = test[\"TotalDeaths\"]"
   ]
  },
  {
   "cell_type": "code",
   "execution_count": 293,
   "metadata": {},
   "outputs": [],
   "source": [
    "del test[\"TotalDeaths\"]"
   ]
  },
  {
   "cell_type": "code",
   "execution_count": 294,
   "metadata": {},
   "outputs": [
    {
     "data": {
      "text/plain": [
       "(58, 12)"
      ]
     },
     "execution_count": 294,
     "metadata": {},
     "output_type": "execute_result"
    }
   ],
   "source": [
    "test.shape"
   ]
  },
  {
   "cell_type": "code",
   "execution_count": 295,
   "metadata": {},
   "outputs": [],
   "source": [
    "from sklearn import tree"
   ]
  },
  {
   "cell_type": "code",
   "execution_count": 296,
   "metadata": {},
   "outputs": [],
   "source": [
    "target = train[\"TotalDeaths\"].values\n",
    "features_one = train[[ \"Active\\r\\nCases\", \"Serious,\\r\\nCritical\",\"Tot Cases/\\r\\n1M pop\",\"Deaths/\\r\\n1M pop\",\"Total\\r\\nTests\",\"Tests/\\r\\n1M pop\",\"Population\"]].values\n",
    " \n",
    "# 決定木の作成\n",
    "my_tree_one = tree.DecisionTreeRegressor()\n",
    "my_tree_one = my_tree_one.fit(features_one, target)"
   ]
  },
  {
   "cell_type": "code",
   "execution_count": 297,
   "metadata": {},
   "outputs": [
    {
     "name": "stderr",
     "output_type": "stream",
     "text": [
      "/Library/Frameworks/Python.framework/Versions/3.8/lib/python3.8/site-packages/pandas/core/generic.py:6245: SettingWithCopyWarning: \n",
      "A value is trying to be set on a copy of a slice from a DataFrame\n",
      "\n",
      "See the caveats in the documentation: https://pandas.pydata.org/pandas-docs/stable/user_guide/indexing.html#returning-a-view-versus-a-copy\n",
      "  self._update_inplace(new_data)\n"
     ]
    }
   ],
   "source": [
    "test[\"Population\"].fillna(test[\"Population\"].mean(), inplace=True)\n",
    "# 「test」の説明変数の値を取得\n",
    "test_features = test[[\"Active\\r\\nCases\", \"Serious,\\r\\nCritical\",\"Tot Cases/\\r\\n1M pop\",\"Deaths/\\r\\n1M pop\",\"Total\\r\\nTests\",\"Tests/\\r\\n1M pop\",\"Population\"]].values\n",
    " \n",
    "# 「test」の説明変数を使って「my_tree_one」のモデルで予測\n",
    "my_prediction = my_tree_one.predict(test_features)"
   ]
  },
  {
   "cell_type": "code",
   "execution_count": 323,
   "metadata": {},
   "outputs": [
    {
     "data": {
      "text/plain": [
       "(58,)"
      ]
     },
     "execution_count": 323,
     "metadata": {},
     "output_type": "execute_result"
    }
   ],
   "source": [
    "my_prediction.shape"
   ]
  },
  {
   "cell_type": "code",
   "execution_count": 324,
   "metadata": {},
   "outputs": [
    {
     "data": {
      "text/plain": [
       "(58, 1)"
      ]
     },
     "execution_count": 324,
     "metadata": {},
     "output_type": "execute_result"
    }
   ],
   "source": [
    "my_solution.shape"
   ]
  },
  {
   "cell_type": "code",
   "execution_count": 325,
   "metadata": {},
   "outputs": [
    {
     "data": {
      "text/plain": [
       "(58,)"
      ]
     },
     "execution_count": 325,
     "metadata": {},
     "output_type": "execute_result"
    }
   ],
   "source": [
    "correct_data.shape"
   ]
  },
  {
   "cell_type": "code",
   "execution_count": 328,
   "metadata": {},
   "outputs": [
    {
     "data": {
      "text/plain": [
       "56    16278.0\n",
       "35    14183.0\n",
       "98     5678.0\n",
       "Name: TotalDeaths, dtype: float64"
      ]
     },
     "execution_count": 328,
     "metadata": {},
     "output_type": "execute_result"
    }
   ],
   "source": [
    "correct_data.head(3)"
   ]
  },
  {
   "cell_type": "code",
   "execution_count": 305,
   "metadata": {},
   "outputs": [
    {
     "data": {
      "text/plain": [
       "16278.0"
      ]
     },
     "execution_count": 305,
     "metadata": {},
     "output_type": "execute_result"
    }
   ],
   "source": [
    "correct_data.iat[0]"
   ]
  },
  {
   "cell_type": "code",
   "execution_count": 334,
   "metadata": {},
   "outputs": [
    {
     "data": {
      "text/plain": [
       "<BarContainer object of 10 artists>"
      ]
     },
     "execution_count": 334,
     "metadata": {},
     "output_type": "execute_result"
    },
    {
     "data": {
      "image/png": "[encoded data removed]",
      "text/plain": [
       "<Figure size 432x288 with 1 Axes>"
      ]
     },
     "metadata": {},
     "output_type": "display_data"
    }
   ],
   "source": [
    "import matplotlib.pyplot as plt\n",
    "import numpy as np \n",
    "\n",
    "# x = np.arange(len(correct_data))\n",
    "# height = correct_data\n",
    "# height2 = my_prediction\n",
    "\n",
    "x = np.arange(10)\n",
    "height = correct_data[:10]\n",
    "height2 = my_prediction[:10]\n",
    "\n",
    "\n",
    "plt.bar(x, height,width=-0.3)\n",
    "plt.bar(x, height2, align=\"edge\", width=-0.3)"
   ]
  },
  {
   "cell_type": "code",
   "execution_count": null,
   "metadata": {},
   "outputs": [],
   "source": []
  }
 ],
 "metadata": {
  "kernelspec": {
   "display_name": "Python 3",
   "language": "python",
   "name": "python3"
  },
  "language_info": {
   "codemirror_mode": {
    "name": "ipython",
    "version": 3
   },
   "file_extension": ".py",
   "mimetype": "text/x-python",
   "name": "python",
   "nbconvert_exporter": "python",
   "pygments_lexer": "ipython3",
   "version": "3.8.2"
  }
 },
 "nbformat": 4,
 "nbformat_minor": 4
}
